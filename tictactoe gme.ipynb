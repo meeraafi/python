{
 "cells": [
  {
   "cell_type": "code",
   "execution_count": 1,
   "id": "89622a12-3a5b-4ebd-8a3b-b374a2d91176",
   "metadata": {},
   "outputs": [
    {
     "name": "stdout",
     "output_type": "stream",
     "text": [
      "| - | - | - |\n",
      "| - | - | - |\n",
      "| - | - | - |\n"
     ]
    },
    {
     "name": "stdin",
     "output_type": "stream",
     "text": [
      "x, enter your position : 1\n"
     ]
    },
    {
     "name": "stdout",
     "output_type": "stream",
     "text": [
      "| x | - | - |\n",
      "| - | - | - |\n",
      "| - | - | - |\n"
     ]
    },
    {
     "name": "stdin",
     "output_type": "stream",
     "text": [
      "o, enter your position : 2\n"
     ]
    },
    {
     "name": "stdout",
     "output_type": "stream",
     "text": [
      "| x | o | - |\n",
      "| - | - | - |\n",
      "| - | - | - |\n"
     ]
    },
    {
     "name": "stdin",
     "output_type": "stream",
     "text": [
      "x, enter your position : 3\n"
     ]
    },
    {
     "name": "stdout",
     "output_type": "stream",
     "text": [
      "| x | o | x |\n",
      "| - | - | - |\n",
      "| - | - | - |\n"
     ]
    },
    {
     "name": "stdin",
     "output_type": "stream",
     "text": [
      "o, enter your position : 5\n"
     ]
    },
    {
     "name": "stdout",
     "output_type": "stream",
     "text": [
      "| x | o | x |\n",
      "| - | o | - |\n",
      "| - | - | - |\n"
     ]
    },
    {
     "name": "stdin",
     "output_type": "stream",
     "text": [
      "x, enter your position : 8\n"
     ]
    },
    {
     "name": "stdout",
     "output_type": "stream",
     "text": [
      "| x | o | x |\n",
      "| - | o | - |\n",
      "| - | x | - |\n"
     ]
    },
    {
     "name": "stdin",
     "output_type": "stream",
     "text": [
      "o, enter your position : 6\n"
     ]
    },
    {
     "name": "stdout",
     "output_type": "stream",
     "text": [
      "| x | o | x |\n",
      "| - | o | o |\n",
      "| - | x | - |\n"
     ]
    },
    {
     "name": "stdin",
     "output_type": "stream",
     "text": [
      "x, enter your position : 4\n"
     ]
    },
    {
     "name": "stdout",
     "output_type": "stream",
     "text": [
      "| x | o | x |\n",
      "| x | o | o |\n",
      "| - | x | - |\n"
     ]
    },
    {
     "name": "stdin",
     "output_type": "stream",
     "text": [
      "o, enter your position : 7\n"
     ]
    },
    {
     "name": "stdout",
     "output_type": "stream",
     "text": [
      "| x | o | x |\n",
      "| x | o | o |\n",
      "| o | x | - |\n"
     ]
    },
    {
     "name": "stdin",
     "output_type": "stream",
     "text": [
      "x, enter your position : 9\n"
     ]
    },
    {
     "name": "stdout",
     "output_type": "stream",
     "text": [
      "| x | o | x |\n",
      "| x | o | o |\n",
      "| o | x | x |\n",
      "oops!! its tie\n"
     ]
    },
    {
     "name": "stdin",
     "output_type": "stream",
     "text": [
      "do you want play again [y/n] : n\n"
     ]
    }
   ],
   "source": [
    "board=[ '-' for i in range(9) ]\n",
    "def displayboard():\n",
    "    print(\"|\",board[0],\"|\",board[1],\"|\",board[2],\"|\")\n",
    "    print(\"|\",board[3],\"|\",board[4],\"|\",board[5],\"|\")\n",
    "    print(\"|\",board[6],\"|\",board[7],\"|\",board[8],\"|\")\n",
    "player1=\"x\"\n",
    "player2=\"o\"\n",
    "def check_condition(player):\n",
    "    condition=[\n",
    "        [0,1,2],[3,4,5],[6,7,8],[0,3,6],[1,4,7],[2,5,8],[0,4,8],[2,4,6]\n",
    "    ]\n",
    "    for check in condition:\n",
    "        if board[check[0]]==player and board[check[1]]==player and board[check[2]]==player:\n",
    "            return 1\n",
    "    else:\n",
    "        return 0\n",
    "def startgame():\n",
    "    displayboard()\n",
    "    while True:\n",
    "        while True:\n",
    "            player1_option=input(f\"{player1}, enter your position :\")\n",
    "            if player1_option not in [ str(i) for i in range(1,10) ]:\n",
    "                print (\"please enter from 1-9\")\n",
    "                continue\n",
    "            if board[int(player1_option)-1] == \"-\":\n",
    "                board[int(player1_option)-1] = player1\n",
    "                displayboard()\n",
    "                if check_condition(player1):\n",
    "                    return f\"winner: {player1}\"\n",
    "                break\n",
    "            else:\n",
    "                print(\"This place is not empty\")\n",
    "        if len([i for i in board if i== '-'])==0:\n",
    "            return \"oops!! its tie\"\n",
    "        while True:\n",
    "            player2_option=input(f\"{player2}, enter your position :\")\n",
    "            if player2_option not in [ str(i) for i in range(1,10) ]:\n",
    "                print (\"please enter from 1-9\")\n",
    "                continue\n",
    "            if board[int(player2_option)-1] == \"-\":\n",
    "                board[int(player2_option)-1] = player2\n",
    "                displayboard()\n",
    "                if check_condition(player2):\n",
    "                    return f\"winner: {player2}\"\n",
    "                break\n",
    "            else:\n",
    "                print(\"This place is not empty\")\n",
    "print(startgame())\n",
    "while True:\n",
    "    play_again=input(\"do you want play again [y/n] :\")\n",
    "    if play_again in \"yY\":\n",
    "        board=['-' for i in range(9)]\n",
    "        print(startgame())\n",
    "    else:\n",
    "        break\n",
    "        \n",
    "     \n",
    "        \n",
    "            \n",
    "\n",
    "    \n",
    "                \n",
    "                \n",
    "    "
   ]
  },
  {
   "cell_type": "code",
   "execution_count": null,
   "id": "cbe0a9bf-7d44-4552-aadd-c4042f662a68",
   "metadata": {},
   "outputs": [],
   "source": []
  },
  {
   "cell_type": "code",
   "execution_count": null,
   "id": "151ad5f2-a746-47a1-afbc-5fda46287d48",
   "metadata": {},
   "outputs": [],
   "source": []
  }
 ],
 "metadata": {
  "kernelspec": {
   "display_name": "Python 3 (ipykernel)",
   "language": "python",
   "name": "python3"
  },
  "language_info": {
   "codemirror_mode": {
    "name": "ipython",
    "version": 3
   },
   "file_extension": ".py",
   "mimetype": "text/x-python",
   "name": "python",
   "nbconvert_exporter": "python",
   "pygments_lexer": "ipython3",
   "version": "3.12.4"
  }
 },
 "nbformat": 4,
 "nbformat_minor": 5
}
