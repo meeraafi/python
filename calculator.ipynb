{
 "cells": [
  {
   "cell_type": "code",
   "execution_count": 2,
   "id": "fa4ed8be-4b1d-4831-920d-6c56009279fa",
   "metadata": {},
   "outputs": [],
   "source": [
    "from tkinter import *\n",
    "window=Tk()\n",
    "window.title(\"CALCULATOR\")\n",
    "window.geometry('250x350')\n",
    "window.config(bg=\"black\")\n",
    "equation=\"\"\n",
    "def show(num):\n",
    "    global equation\n",
    "    equation+=num\n",
    "    a.config(text=equation)\n",
    "def clear():\n",
    "    global equation\n",
    "    equation=\"\"\n",
    "    a.config(text=equation)\n",
    "def calculate():\n",
    "    global equation\n",
    "    result=\"\"\n",
    "    if equation != \" \":\n",
    "        try:\n",
    "            result=eval(equation)\n",
    "        except:\n",
    "            result=\"error\"\n",
    "            equation=\"\"\n",
    "    a.config(text=result)\n",
    "a=Label(window,height=3,width=50,text=\"\")\n",
    "a.pack()\n",
    "\n",
    "\n",
    "Button(window,text=\"C\",fg=\"black\",width=5,bg=\"blue\",command=lambda:clear()).place(x=10,y=100)\n",
    "Button(window,text=\"/\",fg=\"black\",width=5,bg=\"white\",command=lambda:show(\"/\")).place(x=60,y=100)\n",
    "Button(window,text=\"%\",fg=\"black\",width=5,bg=\"white\",command=lambda:show(\"%\")).place(x=110,y=100)\n",
    "Button(window,text=\"*\",fg=\"black\",width=5,bg=\"white\",command=lambda:show(\"*\")).place(x=160,y=100)\n",
    "Button(window,text=\"7\",fg=\"black\",width=5,bg=\"white\",command=lambda:show(\"7\")).place(x=10,y=130)\n",
    "Button(window,text=\"8\",fg=\"black\",width=5,bg=\"white\",command=lambda:show(\"8\")).place(x=60,y=130)\n",
    "Button(window,text=\"9\",fg=\"black\",width=5,bg=\"white\",command=lambda:show(\"9\")).place(x=110,y=130)\n",
    "Button(window,text=\"-\",fg=\"black\",width=5,bg=\"white\",command=lambda:show(\"-\")).place(x=160,y=130)\n",
    "Button(window,text=\"4\",fg=\"black\",width=5,bg=\"white\",command=lambda:show(\"4\")).place(x=10,y=160)\n",
    "Button(window,text=\"5\",fg=\"black\",width=5,bg=\"white\",command=lambda:show(\"5\")).place(x=60,y=160)\n",
    "Button(window,text=\"6\",fg=\"black\",width=5,bg=\"white\",command=lambda:show(\"6\")).place(x=110,y=160)\n",
    "Button(window,text=\"+\",fg=\"black\",width=5,bg=\"white\",command=lambda:show(\"+\")).place(x=160,y=160)\n",
    "Button(window,text=\"1\",fg=\"black\",width=5,bg=\"white\",command=lambda:show(\"1\")).place(x=10,y=190)\n",
    "Button(window,text=\"2\",fg=\"black\",width=5,bg=\"white\",command=lambda:show(\"2\")).place(x=60,y=190)\n",
    "Button(window,text=\"3\",fg=\"black\",width=5,bg=\"white\",command=lambda:show(\"3\")).place(x=110,y=190)\n",
    "Button(window,text=\"0\",fg=\"black\",width=12,bg=\"white\",command=lambda:show(\"0\")).place(x=10,y=220)\n",
    "Button(window,text=\".\",fg=\"black\",width=5,bg=\"white\",command=lambda:show(\".\")).place(x=110,y=220)\n",
    "Button(window,text=\"=\",fg=\"black\",width=5,height=3,bg=\"orange\",command=lambda:calculate()).place(x=160,y=190)\n",
    "window.mainloop()"
   ]
  },
  {
   "cell_type": "code",
   "execution_count": null,
   "id": "fb5dcc75-4af6-4dbc-8271-125736a55dc7",
   "metadata": {},
   "outputs": [],
   "source": []
  },
  {
   "cell_type": "code",
   "execution_count": null,
   "id": "7ae7737c-52ae-4ed5-b405-c358cbb1acfb",
   "metadata": {},
   "outputs": [],
   "source": []
  }
 ],
 "metadata": {
  "kernelspec": {
   "display_name": "Python 3 (ipykernel)",
   "language": "python",
   "name": "python3"
  },
  "language_info": {
   "codemirror_mode": {
    "name": "ipython",
    "version": 3
   },
   "file_extension": ".py",
   "mimetype": "text/x-python",
   "name": "python",
   "nbconvert_exporter": "python",
   "pygments_lexer": "ipython3",
   "version": "3.12.4"
  }
 },
 "nbformat": 4,
 "nbformat_minor": 5
}
